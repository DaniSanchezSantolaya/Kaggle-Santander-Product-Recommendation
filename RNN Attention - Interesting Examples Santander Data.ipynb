{
 "cells": [
  {
   "cell_type": "code",
   "execution_count": 9,
   "metadata": {},
   "outputs": [],
   "source": [
    "import tensorflow as tf\n",
    "import numpy as np\n",
    "import dataset\n",
    "import pickle\n",
    "from dataset import DataSet\n",
    "import os\n",
    "from collections import Counter\n",
    "import pandas as pd\n",
    "import santander_constants as constants\n",
    "import santander_utils as utils"
   ]
  },
  {
   "cell_type": "markdown",
   "metadata": {},
   "source": [
    "# Load the model"
   ]
  },
  {
   "cell_type": "code",
   "execution_count": 10,
   "metadata": {},
   "outputs": [
    {
     "name": "stdout",
     "output_type": "stream",
     "text": [
      "RNN Type: ModelType.RNN_ATTENTION_EMBEDDINGS\n",
      "{'learning_rate': 0.001, 'num_epochs': 10000, 'embedding_size': 100, 'dropout': 0.0, 'optimizer': <OptimizerType.ADAM: 2>, 'weight_init': <tensorflow.python.ops.init_ops.RandomNormal object at 0x000000000D037B00>, 'embedding_activation': 'linear', 'layer_norm': False, 'n_hidden': 100, 'batch_size': 1, 'rnn_type': <RnnCellType.LSTM2: 2>, 'attention_activation': <AttentionActivation.LINEAR: 1>, 'seq_length': 18, 'l2': 0.0, 'n_output': 24, 'n_input': 48}\n",
      "<tensorflow.python.ops.init_ops.RandomNormal object at 0x000000000D037B00>\n",
      "Variable w_alphas:0 will be regularized\n",
      "Variable w_out:0 will be regularized\n",
      "Variable w_emb:0 will be regularized\n",
      "Variable rnn/lstm_cell/kernel:0 will be regularized\n",
      "INFO:tensorflow:Summary name w_alphas:0 is illegal; using w_alphas_0 instead.\n",
      "INFO:tensorflow:Summary name w_out:0 is illegal; using w_out_0 instead.\n",
      "INFO:tensorflow:Summary name w_emb:0 is illegal; using w_emb_0 instead.\n",
      "INFO:tensorflow:Summary name b_out:0 is illegal; using b_out_0 instead.\n",
      "INFO:tensorflow:Summary name b_alphas:0 is illegal; using b_alphas_0 instead.\n",
      "INFO:tensorflow:Summary name b_emb:0 is illegal; using b_emb_0 instead.\n",
      "INFO:tensorflow:Summary name rnn/lstm_cell/kernel:0 is illegal; using rnn/lstm_cell/kernel_0 instead.\n",
      "INFO:tensorflow:Summary name rnn/lstm_cell/bias:0 is illegal; using rnn/lstm_cell/bias_0 instead.\n",
      "INFO:tensorflow:Summary name w_alphas:0/gradient is illegal; using w_alphas_0/gradient instead.\n",
      "INFO:tensorflow:Summary name w_out:0/gradient is illegal; using w_out_0/gradient instead.\n",
      "INFO:tensorflow:Summary name w_emb:0/gradient is illegal; using w_emb_0/gradient instead.\n",
      "INFO:tensorflow:Summary name b_out:0/gradient is illegal; using b_out_0/gradient instead.\n",
      "INFO:tensorflow:Summary name b_alphas:0/gradient is illegal; using b_alphas_0/gradient instead.\n",
      "INFO:tensorflow:Summary name rnn/lstm_cell/kernel:0/gradient is illegal; using rnn/lstm_cell/kernel_0/gradient instead.\n",
      "INFO:tensorflow:Summary name rnn/lstm_cell/bias:0/gradient is illegal; using rnn/lstm_cell/bias_0/gradient instead.\n"
     ]
    }
   ],
   "source": [
    "# Specify model type and parameters\n",
    "model_type = constants.ModelType.RNN_ATTENTION_EMBEDDINGS\n",
    "parameters = {}\n",
    "parameters['seq_length'] = constants.MAX_SEQ_LENGTH\n",
    "parameters['n_input'] = constants.N_INPUT\n",
    "parameters['n_output'] = constants.N_OUTPUT\n",
    "parameters['n_hidden'] = 100\n",
    "parameters['weight_init'] =  constants.WEIGHT_INITIALIZATION_DICT['normal'](0.1)\n",
    "parameters['learning_rate'] = 0.001\n",
    "parameters['optimizer'] = constants.OptimizerType.ADAM\n",
    "parameters['rnn_type'] = constants.RnnCellType.LSTM2\n",
    "parameters['num_epochs'] = 10000\n",
    "parameters['batch_size'] = 1\n",
    "parameters['embedding_size'] = 100              # Only for attention to embeddings model (will be ignored for others)\n",
    "parameters['embedding_activation'] = 'linear'  # Only for attention to embeddings model (will be ignored for others)\n",
    "parameters['attention_activation'] = constants.AttentionActivation.LINEAR\n",
    "parameters['l2'] = 0.\n",
    "parameters['dropout'] = 0.\n",
    "parameters['layer_norm'] = False\n",
    "print('RNN Type: ' + str(model_type))\n",
    "print(parameters)\n",
    "\n",
    "model = utils.create_tensorflow_graph(model_type, parameters)\n",
    "\n",
    "checkpoint_path = 'C:/data/Santander/checkpoints/rnn_attention_embeddings_FinalModel1/best_model/model_best.ckpt-2355712'"
   ]
  },
  {
   "cell_type": "markdown",
   "metadata": {},
   "source": [
    "# Load Preprocessed Dataset (Pickle)"
   ]
  },
  {
   "cell_type": "code",
   "execution_count": 11,
   "metadata": {},
   "outputs": [],
   "source": [
    "with open(\"preprocessed/dataset_augmented_07.pickle\", 'rb') as handle:\n",
    "    dataset = pickle.load(handle)\n",
    "#ds = DataSet(dataset)\n",
    "#del dataset"
   ]
  },
  {
   "cell_type": "markdown",
   "metadata": {},
   "source": [
    "# Define functions"
   ]
  },
  {
   "cell_type": "code",
   "execution_count": 233,
   "metadata": {},
   "outputs": [],
   "source": [
    "product_columns = ['ind_ahor_fin_ult1', 'ind_aval_fin_ult1', 'ind_cco_fin_ult1', 'ind_cder_fin_ult1',\n",
    "                  'ind_cno_fin_ult1', 'ind_ctju_fin_ult1', 'ind_ctma_fin_ult1', 'ind_ctop_fin_ult1',\n",
    "                  'ind_ctpp_fin_ult1', 'ind_deco_fin_ult1', 'ind_deme_fin_ult1', 'ind_dela_fin_ult1',\n",
    "                  'ind_ecue_fin_ult1', 'ind_fond_fin_ult1', 'ind_hip_fin_ult1', 'ind_plan_fin_ult1',\n",
    "                  'ind_pres_fin_ult1', 'ind_reca_fin_ult1', 'ind_tjcr_fin_ult1', 'ind_valo_fin_ult1',\n",
    "                  'ind_viv_fin_ult1', 'ind_nomina_ult1', 'ind_nom_pens_ult1', 'ind_recibo_ult1']\n",
    "\n",
    "product_descriptions = ['Saving Account', 'Guarantees', 'Current Accounts', 'Derivada Account',\n",
    "                  'Payroll Account', 'Junior Account', 'Más particular Account', 'particular Account',\n",
    "                  'particular Plus Account', 'Short-term deposits', 'Medium-term deposits', 'Long-term deposits',\n",
    "                  'e-account', 'Funds', 'Mortgage', 'Pensions',\n",
    "                  'Loans', 'Taxes', 'Credit Card', 'Securities',\n",
    "                  'Home Account', 'Payroll', 'Pensions', 'Direct Debit']\n",
    "\n",
    "\n",
    "def show_predictions(model, checkpoint_path, dataset, idx_sample, set_name):\n",
    "\n",
    "    saver = tf.train.Saver()\n",
    "    print('Index Sample: ' + str(idx_sample))\n",
    "    print('ncodpers: ' + str(dataset[set_name]['ncodpers'][idx_sample]))\n",
    "    with tf.Session() as sess:\n",
    "        saver.restore(sess, checkpoint_path)\n",
    "        batch_x_test = np.expand_dims(dataset[set_name]['X'][idx_sample].toarray(), axis=0)\n",
    "        predictions_test, attention_weights = sess.run([model.pred_prob, model.alphas ], \n",
    "                                                       feed_dict={model.x: batch_x_test, model.dropout_keep_prob: 1})\n",
    "        timesteps = np.where(batch_x_test[0] == 1)[0][-1]\n",
    "        for t in range(timesteps + 1):\n",
    "            str_t = str(t) + ': '\n",
    "            interactions_t = np.where(batch_x_test[0][t] == 1)[0]\n",
    "            for interaction_idx in interactions_t:\n",
    "                if interaction_idx > 23:\n",
    "                    str_t += 'Removed ' + product_descriptions[interaction_idx - 24] + ' (' + product_columns[interaction_idx - 24] + ') '\n",
    "                else:\n",
    "                    str_t += 'Added ' + product_descriptions[interaction_idx] + ' (' + product_columns[interaction_idx - 24] + ') '\n",
    "            str_t += ' -- Attention weight: ' + str(attention_weights[0][t])\n",
    "            print(str_t)\n",
    "        print('Top 7 Predictions: ')\n",
    "        idx_predictions = np.arange(len(product_descriptions))\n",
    "        sorted_pred, sorted_idx = zip(*sorted(zip(predictions_test[0], idx_predictions), reverse=True))\n",
    "        for k in range(7):\n",
    "            print(product_descriptions[sorted_idx[k]] + ' (' + product_columns[sorted_idx[k]] + ')' + ': ' + str(predictions_test[0][sorted_idx[k]]))\n",
    "        print('Labels: ')\n",
    "        labels_test = np.where(dataset[set_name]['Y'][idx_sample].toarray() == 1)[1]\n",
    "        for lbl in labels_test:\n",
    "            print(product_descriptions[lbl] + ' (' + product_columns[lbl] + ')')\n",
    "    \n",
    "def search_correct_predictions(model, checkpoint_path, dataset, set_name, samples_to_look, k=5, exclude_most_att_last=False):\n",
    "    '''\n",
    "    samples_to_look: index of the samples to look\n",
    "    k: Look at top k\n",
    "    exclude_most_att_last: If True, it excludes the samples that have the most attention to last intearction\n",
    "    '''\n",
    "    \n",
    "    saver = tf.train.Saver()\n",
    "    correct_predictions = []\n",
    "    with tf.Session() as sess:\n",
    "        saver.restore(sess, checkpoint_path)\n",
    "        for idx_sample in samples_to_look:\n",
    "            batch_x_test = np.expand_dims(dataset[set_name]['X'][idx_sample].toarray(), axis=0)\n",
    "            predictions_test, attention_weights = sess.run([model.pred_prob, model.alphas], \n",
    "                                                           feed_dict={model.x: batch_x_test, model.dropout_keep_prob: 1})\n",
    "            idx_predictions = np.arange(len(product_descriptions))\n",
    "            sorted_pred, sorted_idx = zip(*sorted(zip(predictions_test[0], idx_predictions), reverse=True))\n",
    "            if idx_product in sorted_idx[0:k]:\n",
    "                if exclude_most_att_last:\n",
    "                    num_interactions = max(np.where(batch_x_test == 1)[1])\n",
    "                    if np.argmax(attention_weights[0]) < num_interactions:\n",
    "                        correct_predictions.append(idx_sample)\n",
    "                else:\n",
    "                    correct_predictions.append(idx_sample)\n",
    "\n",
    "    print('Samples found ' + str(len(correct_predictions)))\n",
    "    return correct_predictions\n",
    "    \n",
    "def search_samples_with_label(dataset, set_name, label, exclude_interactions, include_interactions, exclude_same=True):\n",
    "    interesting_samples = []\n",
    "    for i in range(len(dataset[set_name]['X'])):\n",
    "        # Check that the product we are looking for is in the labels\n",
    "        if label in np.where(dataset[set_name]['Y'][i].toarray() != 0)[1]:\n",
    "            times, x_int = np.where(dataset[set_name]['X'][i].toarray() != 0)\n",
    "            # Check that there is at least more than 1 interaction\n",
    "            if len(np.unique(times)) > 1:\n",
    "                # Examples removing the target product we are looking are not really interesting, so we will exclude them\n",
    "                if (exclude_same and not(label + 24) in x_int) or (not exclude_same):\n",
    "                    # Check that there is not any of the interactions that we want to exclude in the previous interactions\n",
    "                    if not any(x in x_int for x in exclude_interactions):\n",
    "                        # Check that there is all the interactions that we want to include in the previous itneractions\n",
    "                        if all(x in x_int for x in include_interactions):\n",
    "                            interesting_samples.append(i)\n",
    "    print('Num samples found: ' + str(len(interesting_samples)))       \n",
    "    return interesting_samples"
   ]
  },
  {
   "cell_type": "markdown",
   "metadata": {},
   "source": [
    "# Examples ith ind_dela_fin_ult1  (Long-term deposit)"
   ]
  },
  {
   "cell_type": "code",
   "execution_count": 100,
   "metadata": {},
   "outputs": [
    {
     "name": "stdout",
     "output_type": "stream",
     "text": [
      "11\n"
     ]
    }
   ],
   "source": [
    "idx_product = product_columns.index('ind_dela_fin_ult1')\n",
    "print(idx_product)"
   ]
  },
  {
   "cell_type": "code",
   "execution_count": 101,
   "metadata": {},
   "outputs": [
    {
     "name": "stdout",
     "output_type": "stream",
     "text": [
      "Num samples found: \n",
      "1158\n"
     ]
    }
   ],
   "source": [
    "samples_to_look = search_samples_with_label(dataset, 'train', idx_product, [], [])"
   ]
  },
  {
   "cell_type": "code",
   "execution_count": 107,
   "metadata": {},
   "outputs": [
    {
     "name": "stdout",
     "output_type": "stream",
     "text": [
      "INFO:tensorflow:Restoring parameters from C:/data/Santander/checkpoints/rnn_attention_embeddings_FinalModel1/best_model/model_best.ckpt-2355712\n",
      "Samples found 23\n"
     ]
    }
   ],
   "source": [
    "correct_samples = search_correct_predictions(model, checkpoint_path, dataset, 'train', samples_to_look, k=2, exclude_most_att_last=True)"
   ]
  },
  {
   "cell_type": "code",
   "execution_count": 113,
   "metadata": {},
   "outputs": [
    {
     "name": "stdout",
     "output_type": "stream",
     "text": [
      "Index Sample: 195712\n",
      "ncodpers: 1378676\n",
      "INFO:tensorflow:Restoring parameters from C:/data/Santander/checkpoints/rnn_attention_embeddings_FinalModel1/best_model/model_best.ckpt-2355712\n",
      "0: Added Short-term deposits (ind_deco_fin_ult1)  -- Attention weight: 0.758065\n",
      "1: Added Direct Debit (ind_recibo_ult1)  -- Attention weight: 0.241935\n",
      "Top 7 Predictions: \n",
      "e-account: 0.332232\n",
      "Long-term deposits: 0.212454\n",
      "Payroll Account: 0.0530766\n",
      "Direct Debit: 0.0476052\n",
      "Pensions: 0.0473728\n",
      "Payroll: 0.0463691\n",
      "Current Accounts: 0.0452593\n",
      "Labels: \n",
      "Long-term deposits \n"
     ]
    }
   ],
   "source": [
    "show_predictions(model, checkpoint_path, dataset, correct_samples[5], 'train')"
   ]
  },
  {
   "cell_type": "code",
   "execution_count": 116,
   "metadata": {},
   "outputs": [
    {
     "name": "stdout",
     "output_type": "stream",
     "text": [
      "Index Sample: 197597\n",
      "ncodpers: 1384421\n",
      "INFO:tensorflow:Restoring parameters from C:/data/Santander/checkpoints/rnn_attention_embeddings_FinalModel1/best_model/model_best.ckpt-2355712\n",
      "0: Added Más particular Account (ind_ctma_fin_ult1) Added Short-term deposits (ind_deco_fin_ult1)  -- Attention weight: 0.808842\n",
      "1: Added Direct Debit (ind_recibo_ult1)  -- Attention weight: 0.191158\n",
      "Top 7 Predictions: \n",
      "e-account: 0.95489\n",
      "Long-term deposits: 0.237973\n",
      "Direct Debit: 0.0239598\n",
      "Payroll Account: 0.023037\n",
      "Payroll: 0.0164017\n",
      "Pensions: 0.0156204\n",
      "Credit Card: 0.0123099\n",
      "Labels: \n",
      "Long-term deposits \n",
      "e-account \n",
      "Payroll \n",
      "Pensions \n",
      "Index Sample: 198263\n",
      "ncodpers: 1386461\n",
      "INFO:tensorflow:Restoring parameters from C:/data/Santander/checkpoints/rnn_attention_embeddings_FinalModel1/best_model/model_best.ckpt-2355712\n",
      "0: Added Más particular Account (ind_ctma_fin_ult1) Added Short-term deposits (ind_deco_fin_ult1) Removed Current Accounts (ind_cco_fin_ult1)  -- Attention weight: 0.882317\n",
      "1: Added Current Accounts (ind_cco_fin_ult1)  -- Attention weight: 0.117683\n",
      "Top 7 Predictions: \n",
      "e-account: 0.921081\n",
      "Long-term deposits: 0.087172\n",
      "Current Accounts: 0.040822\n",
      "Direct Debit: 0.0131424\n",
      "Payroll Account: 0.00288461\n",
      "Payroll: 0.00209327\n",
      "Pensions: 0.00194435\n",
      "Labels: \n",
      "Long-term deposits \n"
     ]
    }
   ],
   "source": [
    "show_predictions(model, checkpoint_path, dataset, correct_samples[6], 'train')\n",
    "show_predictions(model, checkpoint_path, dataset, correct_samples[7], 'train')"
   ]
  },
  {
   "cell_type": "markdown",
   "metadata": {},
   "source": [
    "TAKE A LOO AT THIS TWO, IT MIGHT BE INTERESTING WITH E-ACCOUNT, PERHAPS IS CORRELATED WITH CTMA AND DECO? (THE PROPENSITY IS VERY STRONG) "
   ]
  },
  {
   "cell_type": "code",
   "execution_count": 117,
   "metadata": {},
   "outputs": [
    {
     "name": "stdout",
     "output_type": "stream",
     "text": [
      "Index Sample: 200020\n",
      "ncodpers: 1391999\n",
      "INFO:tensorflow:Restoring parameters from C:/data/Santander/checkpoints/rnn_attention_embeddings_FinalModel1/best_model/model_best.ckpt-2355712\n",
      "0: Added Current Accounts (ind_cco_fin_ult1) Removed Short-term deposits (ind_deco_fin_ult1)  -- Attention weight: 0.59738\n",
      "1: Added e-account (ind_ecue_fin_ult1) Removed Más particular Account (ind_ctma_fin_ult1)  -- Attention weight: 0.40262\n",
      "Top 7 Predictions: \n",
      "Direct Debit: 0.420905\n",
      "Long-term deposits: 0.190873\n",
      "Pensions: 0.0713717\n",
      "Payroll: 0.0648922\n",
      "e-account: 0.0548313\n",
      "Payroll Account: 0.0421798\n",
      "Más particular Account: 0.0204641\n",
      "Labels: \n",
      "Long-term deposits \n"
     ]
    }
   ],
   "source": [
    "show_predictions(model, checkpoint_path, dataset, correct_samples[8], 'train')"
   ]
  },
  {
   "cell_type": "code",
   "execution_count": 136,
   "metadata": {},
   "outputs": [
    {
     "name": "stdout",
     "output_type": "stream",
     "text": [
      "Index Sample: 200530\n",
      "ncodpers: 1393642\n",
      "INFO:tensorflow:Restoring parameters from C:/data/Santander/checkpoints/rnn_attention_embeddings_FinalModel1/best_model/model_best.ckpt-2355712\n",
      "0: Added Short-term deposits (ind_deco_fin_ult1)  -- Attention weight: 0.482154\n",
      "1: Added Direct Debit (ind_recibo_ult1)  -- Attention weight: 0.153879\n",
      "2: Removed Short-term deposits (ind_deco_fin_ult1)  -- Attention weight: 0.363968\n",
      "Top 7 Predictions: \n",
      "e-account (ind_ecue_fin_ult1): 0.34621\n",
      "Long-term deposits (ind_dela_fin_ult1): 0.216908\n",
      "Direct Debit (ind_recibo_ult1): 0.0883549\n",
      "Payroll Account (ind_cno_fin_ult1): 0.0613649\n",
      "Current Accounts (ind_cco_fin_ult1): 0.0489631\n",
      "Payroll (ind_nomina_ult1): 0.0421209\n",
      "Pensions (ind_nom_pens_ult1): 0.0416749\n",
      "Labels: \n",
      "Long-term deposits (ind_dela_fin_ult1)\n"
     ]
    }
   ],
   "source": [
    "show_predictions(model, checkpoint_path, dataset, correct_samples[9], 'train')"
   ]
  },
  {
   "cell_type": "markdown",
   "metadata": {},
   "source": [
    "THIS IS PERFECT!!\n",
    "\n",
    "ncodpers 1445133 could also be good"
   ]
  },
  {
   "cell_type": "markdown",
   "metadata": {},
   "source": [
    "# Examples with ind_ecue_fin_ult1 (e-account)"
   ]
  },
  {
   "cell_type": "code",
   "execution_count": 137,
   "metadata": {},
   "outputs": [
    {
     "name": "stdout",
     "output_type": "stream",
     "text": [
      "12\n",
      "Num samples found: \n",
      "3959\n",
      "INFO:tensorflow:Restoring parameters from C:/data/Santander/checkpoints/rnn_attention_embeddings_FinalModel1/best_model/model_best.ckpt-2355712\n",
      "Samples found 705\n"
     ]
    }
   ],
   "source": [
    "idx_product = product_columns.index('ind_ecue_fin_ult1')\n",
    "print(idx_product)\n",
    "samples_to_look = search_samples_with_label(dataset, 'train', idx_product, [], [])\n",
    "correct_samples = search_correct_predictions(model, checkpoint_path, dataset, 'train', samples_to_look, k=2, exclude_most_att_last=True)"
   ]
  },
  {
   "cell_type": "code",
   "execution_count": 139,
   "metadata": {},
   "outputs": [
    {
     "name": "stdout",
     "output_type": "stream",
     "text": [
      "Index Sample: 1130\n",
      "ncodpers: 20340\n",
      "INFO:tensorflow:Restoring parameters from C:/data/Santander/checkpoints/rnn_attention_embeddings_FinalModel1/best_model/model_best.ckpt-2355712\n",
      "0: Added Más particular Account (ind_ctma_fin_ult1)  -- Attention weight: 0.905222\n",
      "1: Added Direct Debit (ind_recibo_ult1)  -- Attention weight: 0.0947775\n",
      "Top 7 Predictions: \n",
      "e-account (ind_ecue_fin_ult1): 0.835141\n",
      "Direct Debit (ind_recibo_ult1): 0.0570995\n",
      "Payroll Account (ind_cno_fin_ult1): 0.0535076\n",
      "Credit Card (ind_tjcr_fin_ult1): 0.0478709\n",
      "Long-term deposits (ind_dela_fin_ult1): 0.0464894\n",
      "Payroll (ind_nomina_ult1): 0.0464591\n",
      "Pensions (ind_nom_pens_ult1): 0.044312\n",
      "Labels: \n",
      "e-account (ind_ecue_fin_ult1)\n"
     ]
    }
   ],
   "source": [
    "show_predictions(model, checkpoint_path, dataset, correct_samples[1], 'train')"
   ]
  },
  {
   "cell_type": "markdown",
   "metadata": {},
   "source": [
    "GOOD EXAMPLE:\n",
    "- Added ctma which seems to be correlated with ecue\n",
    "- Added Direct Debt (Irrelevant for this sample)\n",
    "\n",
    "The highest propensity with difference is e-account, which is the correct label"
   ]
  },
  {
   "cell_type": "code",
   "execution_count": 150,
   "metadata": {},
   "outputs": [
    {
     "name": "stdout",
     "output_type": "stream",
     "text": [
      "Index Sample: 8192\n",
      "ncodpers: 59525\n",
      "INFO:tensorflow:Restoring parameters from C:/data/Santander/checkpoints/rnn_attention_embeddings_FinalModel1/best_model/model_best.ckpt-2355712\n",
      "0: Added Current Accounts (ind_cco_fin_ult1)  -- Attention weight: 0.0104221\n",
      "1: Added Más particular Account (ind_ctma_fin_ult1) Removed Current Accounts (ind_cco_fin_ult1)  -- Attention weight: 0.871522\n",
      "2: Added Current Accounts (ind_cco_fin_ult1)  -- Attention weight: 0.118056\n",
      "Top 7 Predictions: \n",
      "e-account (ind_ecue_fin_ult1): 0.609257\n",
      "Current Accounts (ind_cco_fin_ult1): 0.136746\n",
      "Direct Debit (ind_recibo_ult1): 0.0274806\n",
      "Long-term deposits (ind_dela_fin_ult1): 0.0118375\n",
      "Payroll Account (ind_cno_fin_ult1): 0.00950758\n",
      "Payroll (ind_nomina_ult1): 0.00943207\n",
      "Pensions (ind_nom_pens_ult1): 0.00895273\n",
      "Labels: \n",
      "e-account (ind_ecue_fin_ult1)\n"
     ]
    }
   ],
   "source": [
    "show_predictions(model, checkpoint_path, dataset, correct_samples[12], 'train')"
   ]
  },
  {
   "cell_type": "markdown",
   "metadata": {},
   "source": [
    "GOOD EXAMPLE (SIMILAR TO PREVIOUS):\n",
    "- Added cco (Not relevant, few attention)\n",
    "- Added cco (Relevant, a lot of attention)\n",
    "- Added cco (Not relevant, few attention)\n",
    "\n",
    "The highest propensity is e-account, which is the correct label"
   ]
  },
  {
   "cell_type": "code",
   "execution_count": 152,
   "metadata": {},
   "outputs": [
    {
     "name": "stdout",
     "output_type": "stream",
     "text": [
      "Index Sample: 8621\n",
      "ncodpers: 61600\n",
      "INFO:tensorflow:Restoring parameters from C:/data/Santander/checkpoints/rnn_attention_embeddings_FinalModel1/best_model/model_best.ckpt-2355712\n",
      "0: Added Direct Debit (ind_recibo_ult1)  -- Attention weight: 0.76689\n",
      "1: Added Payroll Account (ind_cno_fin_ult1) Added Payroll (ind_nomina_ult1) Added Pensions (ind_nom_pens_ult1) Removed Current Accounts (ind_cco_fin_ult1)  -- Attention weight: 0.23311\n",
      "Top 7 Predictions: \n",
      "Credit Card (ind_tjcr_fin_ult1): 0.172326\n",
      "e-account (ind_ecue_fin_ult1): 0.0978559\n",
      "Taxes (ind_reca_fin_ult1): 0.0830436\n",
      "Current Accounts (ind_cco_fin_ult1): 0.0816585\n",
      "Payroll (ind_nomina_ult1): 0.0513394\n",
      "Pensions (ind_nom_pens_ult1): 0.0493762\n",
      "Payroll Account (ind_cno_fin_ult1): 0.0310406\n",
      "Labels: \n",
      "e-account (ind_ecue_fin_ult1)\n",
      "Taxes (ind_reca_fin_ult1)\n"
     ]
    }
   ],
   "source": [
    "show_predictions(model, checkpoint_path, dataset, correct_samples[14], 'train')"
   ]
  },
  {
   "cell_type": "markdown",
   "metadata": {},
   "source": [
    "Not really for cmta, but it might be worthy to take a look at this example, and see why Taxes is in the top 3 predictions"
   ]
  },
  {
   "cell_type": "code",
   "execution_count": 157,
   "metadata": {},
   "outputs": [
    {
     "name": "stdout",
     "output_type": "stream",
     "text": [
      "Index Sample: 13297\n",
      "ncodpers: 83769\n",
      "INFO:tensorflow:Restoring parameters from C:/data/Santander/checkpoints/rnn_attention_embeddings_FinalModel1/best_model/model_best.ckpt-2355712\n",
      "0: Added Payroll Account (ind_cno_fin_ult1) Added Payroll (ind_nomina_ult1) Added Pensions (ind_nom_pens_ult1) Added Direct Debit (ind_recibo_ult1)  -- Attention weight: 0.0975241\n",
      "1: Added Más particular Account (ind_ctma_fin_ult1)  -- Attention weight: 0.866764\n",
      "2: Added Credit Card (ind_tjcr_fin_ult1)  -- Attention weight: 0.0357119\n",
      "Top 7 Predictions: \n",
      "e-account (ind_ecue_fin_ult1): 0.821194\n",
      "Direct Debit (ind_recibo_ult1): 0.0823378\n",
      "Credit Card (ind_tjcr_fin_ult1): 0.0503651\n",
      "Long-term deposits (ind_dela_fin_ult1): 0.0423084\n",
      "Payroll Account (ind_cno_fin_ult1): 0.0264932\n",
      "Payroll (ind_nomina_ult1): 0.0252972\n",
      "Pensions (ind_nom_pens_ult1): 0.0230181\n",
      "Labels: \n",
      "e-account (ind_ecue_fin_ult1)\n"
     ]
    }
   ],
   "source": [
    "show_predictions(model, checkpoint_path, dataset, correct_samples[19], 'train')"
   ]
  },
  {
   "cell_type": "markdown",
   "metadata": {},
   "source": [
    "ANOTHER GOOD EXAMPLE:\n",
    "- Added cno, nomina, nom_pens, recibo\n",
    "- Added ctma\n",
    "- Added tjcr\n",
    "\n",
    "Top prediction is e-account (correct)"
   ]
  },
  {
   "cell_type": "markdown",
   "metadata": {},
   "source": [
    "# Examples with Funds (ind_fond_fin_ult1)"
   ]
  },
  {
   "cell_type": "code",
   "execution_count": 209,
   "metadata": {},
   "outputs": [
    {
     "name": "stdout",
     "output_type": "stream",
     "text": [
      "13\n",
      "Num samples found: \n",
      "417\n",
      "INFO:tensorflow:Restoring parameters from C:/data/Santander/checkpoints/rnn_attention_embeddings_FinalModel1/best_model/model_best.ckpt-2355712\n",
      "Samples found 4\n"
     ]
    }
   ],
   "source": [
    "idx_product = product_columns.index('ind_fond_fin_ult1')\n",
    "print(idx_product)\n",
    "samples_to_look = search_samples_with_label(dataset, 'train', idx_product, [], [], exclude_same=True)\n",
    "correct_samples = search_correct_predictions(model, checkpoint_path, dataset, 'train', samples_to_look, k=6, exclude_most_att_last=True)"
   ]
  },
  {
   "cell_type": "code",
   "execution_count": 211,
   "metadata": {},
   "outputs": [
    {
     "name": "stdout",
     "output_type": "stream",
     "text": [
      "Index Sample: 61490\n",
      "ncodpers: 364476\n",
      "INFO:tensorflow:Restoring parameters from C:/data/Santander/checkpoints/rnn_attention_embeddings_FinalModel1/best_model/model_best.ckpt-2355712\n",
      "0: Added Medium-term deposits (ind_deme_fin_ult1)  -- Attention weight: 0.0915063\n",
      "1: Removed Long-term deposits (ind_dela_fin_ult1)  -- Attention weight: 0.519277\n",
      "2: Removed Medium-term deposits (ind_deme_fin_ult1)  -- Attention weight: 0.389217\n",
      "Top 7 Predictions: \n",
      "Long-term deposits (ind_dela_fin_ult1): 0.311756\n",
      "Direct Debit (ind_recibo_ult1): 0.137346\n",
      "Credit Card (ind_tjcr_fin_ult1): 0.114257\n",
      "e-account (ind_ecue_fin_ult1): 0.112159\n",
      "Current Accounts (ind_cco_fin_ult1): 0.0672684\n",
      "Funds (ind_fond_fin_ult1): 0.0483811\n",
      "Pensions (ind_nom_pens_ult1): 0.03889\n",
      "Labels: \n",
      "Long-term deposits (ind_dela_fin_ult1)\n",
      "Funds (ind_fond_fin_ult1)\n"
     ]
    }
   ],
   "source": [
    "show_predictions(model, checkpoint_path, dataset, correct_samples[1], 'train')"
   ]
  },
  {
   "cell_type": "markdown",
   "metadata": {},
   "source": [
    "THIS ONE MIGHT BE INTERESTING IF WE DON'T FIND ANYTHING BETTER..."
   ]
  },
  {
   "cell_type": "markdown",
   "metadata": {},
   "source": [
    "# Examples with pension (ind_plan_fin_ult1)"
   ]
  },
  {
   "cell_type": "code",
   "execution_count": 229,
   "metadata": {},
   "outputs": [
    {
     "name": "stdout",
     "output_type": "stream",
     "text": [
      "15\n",
      "Num samples found: \n",
      "179\n",
      "INFO:tensorflow:Restoring parameters from C:/data/Santander/checkpoints/rnn_attention_embeddings_FinalModel1/best_model/model_best.ckpt-2355712\n",
      "Samples found 1\n"
     ]
    }
   ],
   "source": [
    "idx_product = product_columns.index('ind_plan_fin_ult1')\n",
    "print(idx_product)\n",
    "samples_to_look = search_samples_with_label(dataset, 'train', idx_product, [], [], exclude_same=True)\n",
    "correct_samples = search_correct_predictions(model, checkpoint_path, dataset, 'train', samples_to_look, k=10, exclude_most_att_last=True)"
   ]
  },
  {
   "cell_type": "code",
   "execution_count": 230,
   "metadata": {},
   "outputs": [
    {
     "name": "stdout",
     "output_type": "stream",
     "text": [
      "Index Sample: 133239\n",
      "ncodpers: 972271\n",
      "INFO:tensorflow:Restoring parameters from C:/data/Santander/checkpoints/rnn_attention_embeddings_FinalModel1/best_model/model_best.ckpt-2355712\n",
      "0: Added Securities (ind_valo_fin_ult1)  -- Attention weight: 0.864279\n",
      "1: Added Credit Card (ind_tjcr_fin_ult1)  -- Attention weight: 0.135721\n",
      "Top 7 Predictions: \n",
      "Direct Debit (ind_recibo_ult1): 0.213151\n",
      "Payroll (ind_nomina_ult1): 0.132024\n",
      "Pensions (ind_nom_pens_ult1): 0.131652\n",
      "Credit Card (ind_tjcr_fin_ult1): 0.126721\n",
      "e-account (ind_ecue_fin_ult1): 0.114371\n",
      "Funds (ind_fond_fin_ult1): 0.111313\n",
      "Current Accounts (ind_cco_fin_ult1): 0.0975631\n",
      "Labels: \n",
      "Pensions (ind_plan_fin_ult1)\n"
     ]
    }
   ],
   "source": [
    "show_predictions(model, checkpoint_path, dataset, correct_samples[0], 'train')"
   ]
  },
  {
   "cell_type": "markdown",
   "metadata": {},
   "source": [
    "Review co-ocurrence with Securities to check if interesting"
   ]
  },
  {
   "cell_type": "markdown",
   "metadata": {},
   "source": [
    "# Examples with Current Accounts (ind_cco_fin_ult1)"
   ]
  },
  {
   "cell_type": "code",
   "execution_count": 260,
   "metadata": {},
   "outputs": [
    {
     "name": "stdout",
     "output_type": "stream",
     "text": [
      "2\n",
      "Num samples found: 2970\n",
      "INFO:tensorflow:Restoring parameters from C:/data/Santander/checkpoints/rnn_attention_embeddings_FinalModel1/best_model/model_best.ckpt-2355712\n",
      "Samples found 55\n"
     ]
    }
   ],
   "source": [
    "idx_product = product_columns.index('ind_cco_fin_ult1')\n",
    "print(idx_product)\n",
    "samples_to_look = search_samples_with_label(dataset, 'train', idx_product, [], [], exclude_same=True)\n",
    "correct_samples = search_correct_predictions(model, checkpoint_path, dataset, 'train', samples_to_look, k=1, exclude_most_att_last=True)"
   ]
  },
  {
   "cell_type": "code",
   "execution_count": 261,
   "metadata": {},
   "outputs": [
    {
     "name": "stdout",
     "output_type": "stream",
     "text": [
      "Index Sample: 59591\n",
      "ncodpers: 352085\n",
      "INFO:tensorflow:Restoring parameters from C:/data/Santander/checkpoints/rnn_attention_embeddings_FinalModel1/best_model/model_best.ckpt-2355712\n",
      "0: Added e-account (ind_ecue_fin_ult1) Removed Junior Account (ind_ctju_fin_ult1)  -- Attention weight: 0.939558\n",
      "1: Added Payroll Account (ind_cno_fin_ult1)  -- Attention weight: 0.0604421\n",
      "Top 7 Predictions: \n",
      "Current Accounts (ind_cco_fin_ult1): 0.53313\n",
      "Payroll Account (ind_cno_fin_ult1): 0.142641\n",
      "Direct Debit (ind_recibo_ult1): 0.0494539\n",
      "Pensions (ind_nom_pens_ult1): 0.0178259\n",
      "Payroll (ind_nomina_ult1): 0.00844065\n",
      "Credit Card (ind_tjcr_fin_ult1): 0.00661885\n",
      "Long-term deposits (ind_dela_fin_ult1): 0.00610927\n",
      "Labels: \n",
      "Current Accounts (ind_cco_fin_ult1)\n"
     ]
    }
   ],
   "source": [
    "show_predictions(model, checkpoint_path, dataset, correct_samples[2], 'train')"
   ]
  },
  {
   "cell_type": "code",
   "execution_count": null,
   "metadata": {},
   "outputs": [],
   "source": []
  }
 ],
 "metadata": {
  "kernelspec": {
   "display_name": "Python [conda root]",
   "language": "python",
   "name": "conda-root-py"
  },
  "language_info": {
   "codemirror_mode": {
    "name": "ipython",
    "version": 3
   },
   "file_extension": ".py",
   "mimetype": "text/x-python",
   "name": "python",
   "nbconvert_exporter": "python",
   "pygments_lexer": "ipython3",
   "version": "3.5.4"
  }
 },
 "nbformat": 4,
 "nbformat_minor": 2
}
